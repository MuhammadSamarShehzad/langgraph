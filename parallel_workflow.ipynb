{
 "cells": [
  {
   "cell_type": "code",
   "execution_count": null,
   "id": "30e37835",
   "metadata": {},
   "outputs": [],
   "source": [
    "from typing import TypedDict\n",
    "\n",
    "class Std(TypedDict):\n",
    "\n",
    "    eng: float\n",
    "    urdu: float\n",
    "    maths: float\n",
    "\n",
    "    marks_obtained: float\n",
    "    percentage: float\n",
    "    grade: str\n",
    "\n",
    "    summary: str"
   ]
  },
  {
   "cell_type": "code",
   "execution_count": null,
   "id": "4677c462",
   "metadata": {},
   "outputs": [],
   "source": [
    "def cal_total(state: Std):\n",
    "    total = state[\"eng\"] + state[\"urdu\"] + state[\"maths\"]\n",
    "\n",
    "    return {\"marks_obtained\":total}\n",
    "\n",
    "def cal_percentage(state: Std):\n",
    "    percentage = (state[\"marks_obtained\"]*100)/300\n",
    "\n",
    "    return {\"percentage\":percentage}\n",
    "\n",
    "def cal_grade(state: Std):\n",
    "    grade = \"\"\n",
    "    percentage = state[\"eng\"]\n",
    "    if (percentage>=80):\n",
    "        grade = \"A\"\n",
    "\n",
    "    elif (percentage>=70):\n",
    "        grade = \"B\"\n",
    "\n",
    "    elif (percentage>=60):\n",
    "        grade = \"C\"\n",
    "\n",
    "    else:\n",
    "        grade = \"D\"\n",
    "\n",
    "    return {\"grade\": grade}\n",
    "\n",
    "def summary(state: Std):\n",
    "    summary = f\"\"\"\n",
    "    --------Final Summary of Result--------\\n\n",
    "    Marks_Obtained: {state[\"marks_obtained\"]}\\n\n",
    "    Percentage: {state[\"percentage\"]}\\n\n",
    "    Grade: {state[\"grade\"]}\n",
    "    \"\"\""
   ]
  },
  {
   "cell_type": "code",
   "execution_count": 14,
   "id": "3989ac06",
   "metadata": {},
   "outputs": [
    {
     "data": {
      "image/png": "[encoded data removed]",
      "text/plain": [
       "<langgraph.graph.state.CompiledStateGraph object at 0x71012f8d4940>"
      ]
     },
     "execution_count": 14,
     "metadata": {},
     "output_type": "execute_result"
    }
   ],
   "source": [
    "from langgraph.graph import StateGraph, START, END\n",
    "\n",
    "workflow = StateGraph(Std)\n",
    "\n",
    "workflow.add_node(\"cal_total\", cal_total)\n",
    "workflow.add_node(\"cal_percentage\", cal_percentage)\n",
    "workflow.add_node(\"cal_grade\", cal_grade)\n",
    "workflow.add_node(\"summary\", summary)\n",
    "\n",
    "workflow.add_edge(START, \"cal_total\")\n",
    "workflow.add_edge(\"cal_total\", \"cal_percentage\")\n",
    "workflow.add_edge(\"cal_total\", \"cal_grade\")\n",
    "workflow.add_edge(\"cal_percentage\", \"summary\")\n",
    "workflow.add_edge(\"cal_grade\", \"summary\")\n",
    "workflow.add_edge(\"summary\", END)\n",
    "\n",
    "graph = workflow.compile()\n",
    "\n",
    "graph"
   ]
  },
  {
   "cell_type": "code",
   "execution_count": 17,
   "id": "decb80a7",
   "metadata": {},
   "outputs": [
    {
     "data": {
      "text/plain": [
       "{'eng': 98.5,\n",
       " 'urdu': 70,\n",
       " 'maths': 91,\n",
       " 'marks_obtained': 259.5,\n",
       " 'percentage': 86.5,\n",
       " 'grade': 'A'}"
      ]
     },
     "execution_count": 17,
     "metadata": {},
     "output_type": "execute_result"
    }
   ],
   "source": [
    "input = {\n",
    "    \"eng\": 98.5,\n",
    "    \"urdu\": 70,\n",
    "    \"maths\": 91\n",
    "}\n",
    "\n",
    "graph.invoke(input)"
   ]
  },
  {
   "cell_type": "markdown",
   "id": "0b8a32d0",
   "metadata": {},
   "source": [
    "-----------------\n",
    "# Using LLM"
   ]
  },
  {
   "cell_type": "code",
   "execution_count": 1,
   "id": "e3f0e430",
   "metadata": {},
   "outputs": [],
   "source": [
    "from langchain.chat_models import ChatOpenAI\n",
    "from langchain.output_parsers import PydanticOutputParser\n",
    "from pydantic import BaseModel, Field\n",
    "\n",
    "from dotenv import load_dotenv\n",
    "import os\n",
    "load_dotenv()\n",
    "\n",
    "api_key = os.getenv(\"OPENROUTER_API_KEY\")"
   ]
  },
  {
   "cell_type": "code",
   "execution_count": 2,
   "id": "1c7115cf",
   "metadata": {},
   "outputs": [
    {
     "name": "stderr",
     "output_type": "stream",
     "text": [
      "/tmp/ipykernel_9059/909817029.py:8: LangChainDeprecationWarning: The class `ChatOpenAI` was deprecated in LangChain 0.0.10 and will be removed in 1.0. An updated version of the class exists in the :class:`~langchain-openai package and should be used instead. To use it run `pip install -U :class:`~langchain-openai` and import as `from :class:`~langchain_openai import ChatOpenAI``.\n",
      "  llm = ChatOpenAI(\n"
     ]
    }
   ],
   "source": [
    "class LLM_Output(BaseModel):\n",
    "    feedback: str = Field(description=\"The feedback on the essay\")\n",
    "    score: int = Field(description=\"Score of essasy from 1 to 10\", ge=0, le=10)\n",
    "\n",
    "parser = PydanticOutputParser(pydantic_object=LLM_Output)\n",
    "\n",
    "# LLM via OpenRouter\n",
    "llm = ChatOpenAI(\n",
    "    openai_api_key=api_key,\n",
    "    openai_api_base=\"https://openrouter.ai/api/v1\",\n",
    "    model=\"openai/gpt-4o-mini\"\n",
    ")"
   ]
  },
  {
   "cell_type": "code",
   "execution_count": 55,
   "id": "8c41778c",
   "metadata": {},
   "outputs": [],
   "source": [
    "essay = \"\"\"\n",
    "Machine Learning (ML) jobs require strong foundations in math, programming, and data handling. Professionals must build, train, and deploy models that solve real-world problems. Success in this field demands not just technical skills but also creativity, critical thinking, and the ability to work with messy, imperfect data. As AI expands, ML roles are in high demand across industries like healthcare, finance, and tech. Mastery of ML tools, ethical understanding, and continuous learning are key to long-term success in this fast-evolving job market.\n",
    "\n",
    "\n",
    "\"\"\""
   ]
  },
  {
   "cell_type": "code",
   "execution_count": 56,
   "id": "c7ab5d3d",
   "metadata": {},
   "outputs": [
    {
     "name": "stdout",
     "output_type": "stream",
     "text": [
      "feedback='The essay provides a concise overview of the essential skills and requirements for Machine Learning jobs. It effectively highlights the importance of math, programming, and data handling, while also emphasizing the need for creativity and critical thinking. The mention of the growing demand for ML roles across various industries adds relevance to the discussion. However, the essay could benefit from specific examples or case studies to illustrate the points made and enhance engagement. Additionally, a more structured format with clear sections could improve readability.' score=7\n"
     ]
    }
   ],
   "source": [
    "# Prompt template\n",
    "prompt = f\"\"\"Analyze the essary and provide the feedback and score\n",
    "Respond in this JSON format:\n",
    "{parser.get_format_instructions()}\n",
    "\\n\\n\n",
    "Essay:\n",
    "{essay}\n",
    "\"\"\"\n",
    "\n",
    "# Call model and parse manually\n",
    "response = llm.invoke(prompt)\n",
    "parsed = parser.parse(response.content)\n",
    "\n",
    "print(parsed)\n"
   ]
  },
  {
   "cell_type": "code",
   "execution_count": 57,
   "id": "bcba090a",
   "metadata": {},
   "outputs": [
    {
     "data": {
      "text/plain": [
       "7"
      ]
     },
     "execution_count": 57,
     "metadata": {},
     "output_type": "execute_result"
    }
   ],
   "source": [
    "parsed.score"
   ]
  },
  {
   "cell_type": "code",
   "execution_count": null,
   "id": "f2a2a78a",
   "metadata": {},
   "outputs": [],
   "source": []
  }
 ],
 "metadata": {
  "kernelspec": {
   "display_name": "ai",
   "language": "python",
   "name": "python3"
  },
  "language_info": {
   "codemirror_mode": {
    "name": "ipython",
    "version": 3
   },
   "file_extension": ".py",
   "mimetype": "text/x-python",
   "name": "python",
   "nbconvert_exporter": "python",
   "pygments_lexer": "ipython3",
   "version": "3.10.18"
  }
 },
 "nbformat": 4,
 "nbformat_minor": 5
}
