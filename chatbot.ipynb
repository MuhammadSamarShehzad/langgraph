{
 "cells": [
  {
   "cell_type": "code",
   "execution_count": 9,
   "id": "bbccbf88",
   "metadata": {},
   "outputs": [
    {
     "data": {
      "text/plain": [
       "'I’m running on OpenAI’s **GPT‑4 Turbo** model – the same model that powers ChatGPT as of the 2024‑04‑09 release (identified internally as `gpt‑4‑turbo‑2024‑04‑09`).'"
      ]
     },
     "execution_count": 9,
     "metadata": {},
     "output_type": "execute_result"
    }
   ],
   "source": [
    "from langchain_openai import ChatOpenAI\n",
    "from langchain_core.tools import tool\n",
    "import requests\n",
    "from dotenv import load_dotenv\n",
    "import os\n",
    "# Load environment variables from .env file\n",
    "load_dotenv()\n",
    "api_key = os.getenv(\"OPENAI_API_KEY\")\n",
    "\n",
    "from langchain_openai import ChatOpenAI\n",
    "llm = ChatOpenAI(\n",
    "    openai_api_base=\"https://router.huggingface.co/v1\",\n",
    "    openai_api_key=api_key,\n",
    "    model_name=\"openai/gpt-oss-120b:cerebras\",\n",
    ")\n",
    "\n",
    "llm.invoke(\"which modal you are tell me exact version\").content"
   ]
  },
  {
   "cell_type": "code",
   "execution_count": 11,
   "id": "df4d0d5e",
   "metadata": {},
   "outputs": [],
   "source": [
    "from langgraph.graph import StateGraph, START, END\n",
    "from typing import TypedDict, Annotated\n",
    "from langchain_core.messages import BaseMessage, HumanMessage\n",
    "from langgraph.checkpoint.memory import MemorySaver"
   ]
  },
  {
   "cell_type": "code",
   "execution_count": null,
   "id": "d5fe7ad7",
   "metadata": {},
   "outputs": [],
   "source": [
    "from langgraph.graph.message import add_messages\n",
    "\n",
    "class ChatState(TypedDict):\n",
    "\n",
    "    messages: Annotated[list[BaseMessage], add_messages]"
   ]
  },
  {
   "cell_type": "code",
   "execution_count": 6,
   "id": "fedd9d6e",
   "metadata": {},
   "outputs": [],
   "source": [
    "def llm_bot(state: ChatState):\n",
    "    messages = state[\"messages\"]\n",
    "    response = llm.invoke(messages).content\n",
    "    return {\"messages\": [response]}"
   ]
  },
  {
   "cell_type": "code",
   "execution_count": 12,
   "id": "99ea313b",
   "metadata": {},
   "outputs": [
    {
     "data": {
      "image/png": "[encoded data removed]",
      "text/plain": [
       "<langgraph.graph.state.CompiledStateGraph object at 0x7af638788a60>"
      ]
     },
     "execution_count": 12,
     "metadata": {},
     "output_type": "execute_result"
    }
   ],
   "source": [
    "checkpoint = MemorySaver()\n",
    "\n",
    "workflow = StateGraph(ChatState)\n",
    "\n",
    "workflow.add_node(\"bot\", llm_bot)\n",
    "\n",
    "workflow.add_edge(START, \"bot\")\n",
    "workflow.add_edge(\"bot\", END)\n",
    "\n",
    "graph = workflow.compile(checkpointer=checkpoint)\n",
    "graph"
   ]
  },
  {
   "cell_type": "code",
   "execution_count": null,
   "id": "e3057b4a",
   "metadata": {},
   "outputs": [
    {
     "name": "stdout",
     "output_type": "stream",
     "text": [
      "Bot response: Hi! How can I assist you today? 😊\n",
      "Bot response: Hello Muhammad Samar! How can I assist you today? 😊 Let me know if you have any questions or need help with something specific!\n",
      "Bot response: Hello Muhammad Samar! The answer to **2 + 4** is **6**. 😊 Let me know if you need help with anything else!\n",
      "Bot response: Your name is **Muhammad Samar**! 😊 Let me know if you need help with anything else.\n",
      "Exiting the chatbot.\n"
     ]
    }
   ],
   "source": [
    "thread_id = \"thread-12345\"\n",
    "while True:\n",
    "    user_input = input(\"Enter here\")\n",
    "\n",
    "    if user_input.strip().lower() in [\"exit\", \"quit\", \"bye\"]:\n",
    "        print(\"Exiting the chatbot.\")\n",
    "        break\n",
    "\n",
    "    config = {'configurable': {\"thread_id\": thread_id}}\n",
    "\n",
    "    response = graph.invoke({\"messages\": [HumanMessage(content=user_input)]}, config=config)\n",
    "\n",
    "    print(\"Bot response:\", response[\"messages\"][-1].content)"
   ]
  },
  {
   "cell_type": "code",
   "execution_count": null,
   "id": "166c481e",
   "metadata": {},
   "outputs": [],
   "source": []
  }
 ],
 "metadata": {
  "kernelspec": {
   "display_name": "ai",
   "language": "python",
   "name": "python3"
  },
  "language_info": {
   "codemirror_mode": {
    "name": "ipython",
    "version": 3
   },
   "file_extension": ".py",
   "mimetype": "text/x-python",
   "name": "python",
   "nbconvert_exporter": "python",
   "pygments_lexer": "ipython3",
   "version": "3.10.18"
  }
 },
 "nbformat": 4,
 "nbformat_minor": 5
}
