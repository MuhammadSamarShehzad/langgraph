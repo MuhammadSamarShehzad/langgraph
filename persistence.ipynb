{
 "cells": [
  {
   "cell_type": "code",
   "execution_count": 1,
   "id": "4f629073",
   "metadata": {},
   "outputs": [],
   "source": [
    "from dotenv import load_dotenv\n",
    "import os\n",
    "load_dotenv()\n",
    "api_key = os.getenv(\"OPENAI_API_KEY\")"
   ]
  },
  {
   "cell_type": "code",
   "execution_count": 2,
   "id": "908f809e",
   "metadata": {},
   "outputs": [
    {
     "data": {
      "text/plain": [
       "'Anwar\\u202ful\\u202fHaq\\u202fKakar'"
      ]
     },
     "execution_count": 2,
     "metadata": {},
     "output_type": "execute_result"
    }
   ],
   "source": [
    "from langchain_openai import ChatOpenAI\n",
    "from langchain_core.tools import tool\n",
    "import requests\n",
    "\n",
    "llm = ChatOpenAI(\n",
    "    openai_api_base=\"https://router.huggingface.co/v1\",\n",
    "    openai_api_key=api_key,\n",
    "    model_name=\"openai/gpt-oss-120b:cerebras\",\n",
    ")\n",
    "\n",
    "llm.invoke(\"who's pm of pakistan? answer just the name\").content"
   ]
  },
  {
   "cell_type": "code",
   "execution_count": 10,
   "id": "485626bb",
   "metadata": {},
   "outputs": [],
   "source": [
    "from typing import TypedDict\n",
    "class Joke(TypedDict):\n",
    "    query: str\n",
    "    joke_generated: str\n",
    "    joke_rating: int"
   ]
  },
  {
   "cell_type": "code",
   "execution_count": 11,
   "id": "c1d04c77",
   "metadata": {},
   "outputs": [],
   "source": [
    "def generate_joke(query: str):\n",
    "    response = llm.invoke(f\"Generate a joke about {query}\\n joke must NOT be long\").content\n",
    "    return {\"joke_generated\": response}\n",
    "\n",
    "def rate_joke(joke_generated: str):\n",
    "    response = llm.invoke(f\"Rate the following joke on a scale of 1 to 10: {joke_generated}\\n Your answer should ONLY contain the rating number nothing else\").content\n",
    "    return {\"joke_rating\": int(response)}"
   ]
  },
  {
   "cell_type": "code",
   "execution_count": 17,
   "id": "5735554f",
   "metadata": {},
   "outputs": [
    {
     "data": {
      "image/png": "[encoded data removed]",
      "text/plain": [
       "<langgraph.graph.state.CompiledStateGraph object at 0x7faeaa675960>"
      ]
     },
     "execution_count": 17,
     "metadata": {},
     "output_type": "execute_result"
    }
   ],
   "source": [
    "from langgraph.graph import StateGraph, START, END\n",
    "from langgraph.checkpoint.memory import InMemorySaver\n",
    "\n",
    "workflow = StateGraph(Joke)\n",
    "\n",
    "workflow.add_node(\"generate_joke\", generate_joke)\n",
    "workflow.add_node(\"rate_joke\", rate_joke)\n",
    "\n",
    "workflow.add_edge(START, \"generate_joke\")\n",
    "workflow.add_edge(\"generate_joke\", \"rate_joke\")\n",
    "workflow.add_edge(\"rate_joke\", END)\n",
    "\n",
    "checkpointer = InMemorySaver()\n",
    "\n",
    "graph = workflow.compile(checkpointer=checkpointer)\n",
    "graph"
   ]
  },
  {
   "cell_type": "code",
   "execution_count": 18,
   "id": "e7fc5fe3",
   "metadata": {},
   "outputs": [
    {
     "data": {
      "text/plain": [
       "{'query': 'Machine Learning',\n",
       " 'joke_generated': \"Why don't machine learning models ever get cold?  \\nThey always have a lot of layers!\",\n",
       " 'joke_rating': 7}"
      ]
     },
     "execution_count": 18,
     "metadata": {},
     "output_type": "execute_result"
    }
   ],
   "source": [
    "config1 = {\"configurable\": {\"thread_id\": \"1\"}}\n",
    "\n",
    "input = {\"query\": \"Machine Learning\"}\n",
    "graph.invoke(input, config=config1)"
   ]
  },
  {
   "cell_type": "code",
   "execution_count": null,
   "id": "a67a55fa",
   "metadata": {},
   "outputs": [
    {
     "data": {
      "text/plain": [
       "StateSnapshot(values={'query': 'Machine Learning', 'joke_generated': \"Why don't machine learning models ever get cold?  \\nThey always have a lot of layers!\", 'joke_rating': 7}, next=(), config={'configurable': {'thread_id': '1', 'checkpoint_ns': '', 'checkpoint_id': '1f06fb6a-4f97-647d-8002-126f91bd53b8'}}, metadata={'source': 'loop', 'step': 2, 'parents': {}, 'thread_id': '1'}, created_at='2025-08-02T15:37:49.102759+00:00', parent_config={'configurable': {'thread_id': '1', 'checkpoint_ns': '', 'checkpoint_id': '1f06fb6a-17df-6a1d-8001-690f74e2bf1e'}}, tasks=(), interrupts=())"
      ]
     },
     "execution_count": 22,
     "metadata": {},
     "output_type": "execute_result"
    }
   ],
   "source": [
    "# graph.get_state(config1)\n"
   ]
  },
  {
   "cell_type": "code",
   "execution_count": 23,
   "id": "1163eb85",
   "metadata": {},
   "outputs": [
    {
     "data": {
      "text/plain": [
       "[StateSnapshot(values={'query': 'Machine Learning', 'joke_generated': \"Why don't machine learning models ever get cold?  \\nThey always have a lot of layers!\", 'joke_rating': 7}, next=(), config={'configurable': {'thread_id': '1', 'checkpoint_ns': '', 'checkpoint_id': '1f06fb6a-4f97-647d-8002-126f91bd53b8'}}, metadata={'source': 'loop', 'step': 2, 'parents': {}, 'thread_id': '1'}, created_at='2025-08-02T15:37:49.102759+00:00', parent_config={'configurable': {'thread_id': '1', 'checkpoint_ns': '', 'checkpoint_id': '1f06fb6a-17df-6a1d-8001-690f74e2bf1e'}}, tasks=(), interrupts=()),\n",
       " StateSnapshot(values={'query': 'Machine Learning', 'joke_generated': \"Why don't machine learning models ever get cold?  \\nThey always have a lot of layers!\"}, next=('rate_joke',), config={'configurable': {'thread_id': '1', 'checkpoint_ns': '', 'checkpoint_id': '1f06fb6a-17df-6a1d-8001-690f74e2bf1e'}}, metadata={'source': 'loop', 'step': 1, 'parents': {}, 'thread_id': '1'}, created_at='2025-08-02T15:37:43.260367+00:00', parent_config={'configurable': {'thread_id': '1', 'checkpoint_ns': '', 'checkpoint_id': '1f06fb69-c421-6117-8000-3256d0dba130'}}, tasks=(PregelTask(id='48b53bdd-bbfa-2e05-0697-a1a77c58c72c', name='rate_joke', path=('__pregel_pull', 'rate_joke'), error=None, interrupts=(), state=None, result={'joke_rating': 7}),), interrupts=()),\n",
       " StateSnapshot(values={'query': 'Machine Learning'}, next=('generate_joke',), config={'configurable': {'thread_id': '1', 'checkpoint_ns': '', 'checkpoint_id': '1f06fb69-c421-6117-8000-3256d0dba130'}}, metadata={'source': 'loop', 'step': 0, 'parents': {}, 'thread_id': '1'}, created_at='2025-08-02T15:37:34.479133+00:00', parent_config={'configurable': {'thread_id': '1', 'checkpoint_ns': '', 'checkpoint_id': '1f06fb69-c418-6081-bfff-a1d663e31475'}}, tasks=(PregelTask(id='3e4d5eea-5fd7-5d78-dff4-128bc997fcf5', name='generate_joke', path=('__pregel_pull', 'generate_joke'), error=None, interrupts=(), state=None, result={'joke_generated': \"Why don't machine learning models ever get cold?  \\nThey always have a lot of layers!\"}),), interrupts=()),\n",
       " StateSnapshot(values={}, next=('__start__',), config={'configurable': {'thread_id': '1', 'checkpoint_ns': '', 'checkpoint_id': '1f06fb69-c418-6081-bfff-a1d663e31475'}}, metadata={'source': 'input', 'step': -1, 'parents': {}, 'thread_id': '1'}, created_at='2025-08-02T15:37:34.475433+00:00', parent_config=None, tasks=(PregelTask(id='86140e99-9703-e7d9-ea99-535da58eb222', name='__start__', path=('__pregel_pull', '__start__'), error=None, interrupts=(), state=None, result={'query': 'Machine Learning'}),), interrupts=())]"
      ]
     },
     "execution_count": 23,
     "metadata": {},
     "output_type": "execute_result"
    }
   ],
   "source": [
    "list(graph.get_state_history(config1))"
   ]
  },
  {
   "cell_type": "code",
   "execution_count": null,
   "id": "d270b8fd",
   "metadata": {},
   "outputs": [],
   "source": []
  }
 ],
 "metadata": {
  "kernelspec": {
   "display_name": "ai",
   "language": "python",
   "name": "python3"
  },
  "language_info": {
   "codemirror_mode": {
    "name": "ipython",
    "version": 3
   },
   "file_extension": ".py",
   "mimetype": "text/x-python",
   "name": "python",
   "nbconvert_exporter": "python",
   "pygments_lexer": "ipython3",
   "version": "3.10.18"
  }
 },
 "nbformat": 4,
 "nbformat_minor": 5
}
