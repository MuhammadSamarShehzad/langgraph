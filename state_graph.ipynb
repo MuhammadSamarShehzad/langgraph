{
 "cells": [
  {
   "cell_type": "code",
   "execution_count": 1,
   "id": "d6520702",
   "metadata": {},
   "outputs": [],
   "source": [
    "from typing import TypedDict\n",
    "class My_StateGraph(TypedDict):\n",
    "    amount_usd: float\n",
    "    total_usd: float\n",
    "    amount_pkr: float"
   ]
  },
  {
   "cell_type": "code",
   "execution_count": 2,
   "id": "674fadc1",
   "metadata": {},
   "outputs": [],
   "source": [
    "def cal_usd(state: My_StateGraph) -> My_StateGraph:\n",
    "    state['total_usd'] = state['amount_usd'] + 80\n",
    "    return state\n",
    "\n",
    "def cal_pkr(state: My_StateGraph) -> My_StateGraph:\n",
    "    state['amount_pkr'] = state['total_usd'] * 280\n",
    "    return state"
   ]
  },
  {
   "cell_type": "code",
   "execution_count": 3,
   "id": "edc76dec",
   "metadata": {},
   "outputs": [
    {
     "data": {
      "image/png": "[encoded data removed]",
      "text/plain": [
       "<langgraph.graph.state.CompiledStateGraph object at 0x72c247615930>"
      ]
     },
     "execution_count": 3,
     "metadata": {},
     "output_type": "execute_result"
    }
   ],
   "source": [
    "from langgraph.graph import StateGraph, START, END\n",
    "\n",
    "builder = StateGraph(My_StateGraph)\n",
    "\n",
    "builder.add_node(\"cal_usd\", cal_usd)\n",
    "builder.add_node(\"cal_pkr\", cal_pkr)\n",
    "\n",
    "builder.add_edge(START, \"cal_usd\")\n",
    "builder.add_edge(\"cal_usd\", \"cal_pkr\")\n",
    "builder.add_edge(\"cal_pkr\", END)\n",
    "\n",
    "graph = builder.compile()\n",
    "\n",
    "graph"
   ]
  },
  {
   "cell_type": "code",
   "execution_count": 4,
   "id": "b609297b",
   "metadata": {},
   "outputs": [
    {
     "data": {
      "text/plain": [
       "{'amount_usd': 100.0, 'total_usd': 180.0, 'amount_pkr': 50400.0}"
      ]
     },
     "execution_count": 4,
     "metadata": {},
     "output_type": "execute_result"
    }
   ],
   "source": [
    "graph.invoke({\"amount_usd\": 100.0})"
   ]
  },
  {
   "cell_type": "markdown",
   "id": "36fcd136",
   "metadata": {},
   "source": [
    "--------\n",
    "# Conditional Graph"
   ]
  },
  {
   "cell_type": "code",
   "execution_count": 5,
   "id": "dd1a11a3",
   "metadata": {},
   "outputs": [],
   "source": [
    "from typing import TypedDict, Literal\n",
    "class My_StateGraph(TypedDict):\n",
    "    amount_usd: float\n",
    "    total_usd: float\n",
    "    currency: Literal['PKR', 'INR']\n",
    "    amount: float"
   ]
  },
  {
   "cell_type": "code",
   "execution_count": 6,
   "id": "e0165031",
   "metadata": {},
   "outputs": [],
   "source": [
    "def cal_usd(state: My_StateGraph) -> My_StateGraph:\n",
    "    state['total_usd'] = state['amount_usd'] + 80\n",
    "    return state\n",
    "\n",
    "def cal_PKR(state: My_StateGraph) -> My_StateGraph:\n",
    "    state['amount'] = state['total_usd'] * 280\n",
    "    return state\n",
    "\n",
    "def cal_INR(state: My_StateGraph) -> My_StateGraph:\n",
    "    state['amount'] = state['total_usd'] * 80\n",
    "    return state\n",
    "\n",
    "def choose_currency(state: My_StateGraph) -> str:\n",
    "    return state['currency']"
   ]
  },
  {
   "cell_type": "code",
   "execution_count": null,
   "id": "897a7a7c",
   "metadata": {},
   "outputs": [
    {
     "data": {
      "image/png": "[encoded data removed]",
      "text/plain": [
       "<langgraph.graph.state.CompiledStateGraph object at 0x72c2476163e0>"
      ]
     },
     "execution_count": 7,
     "metadata": {},
     "output_type": "execute_result"
    }
   ],
   "source": [
    "from langgraph.graph import StateGraph, START, END\n",
    "\n",
    "builder = StateGraph(My_StateGraph)\n",
    "\n",
    "builder.add_node(\"cal_usd\", cal_usd)\n",
    "builder.add_node(\"cal_pkr\", cal_PKR)\n",
    "builder.add_node(\"cal_inr\", cal_INR)\n",
    "\n",
    "builder.add_edge(START, \"cal_usd\")\n",
    "builder.add_conditional_edges(\n",
    "    \"cal_usd\",\n",
    "    choose_currency,\n",
    "    {\n",
    "        'PKR': \"cal_pkr\",\n",
    "        \"INR\": \"cal_inr\"\n",
    "    }\n",
    ")\n",
    "builder.add_edge([\"cal_pkr\", \"cal_inr\"], END)\n",
    "\n",
    "graph = builder.compile()\n",
    "\n",
    "graph"
   ]
  },
  {
   "cell_type": "code",
   "execution_count": 8,
   "id": "b68985d0",
   "metadata": {},
   "outputs": [
    {
     "data": {
      "text/plain": [
       "{'amount_usd': 100.0, 'total_usd': 180.0, 'currency': 'PKR', 'amount': 50400.0}"
      ]
     },
     "execution_count": 8,
     "metadata": {},
     "output_type": "execute_result"
    }
   ],
   "source": [
    "graph.invoke({\"amount_usd\": 100.0, \"currency\":\"PKR\"})"
   ]
  },
  {
   "cell_type": "markdown",
   "id": "c30a32cb",
   "metadata": {},
   "source": [
    "-------\n",
    "# LLM WorkFlow"
   ]
  },
  {
   "cell_type": "code",
   "execution_count": 1,
   "id": "e9532871",
   "metadata": {},
   "outputs": [],
   "source": [
    "from dotenv import load_dotenv\n",
    "import os\n",
    "load_dotenv()\n",
    "\n",
    "api_key = os.getenv(\"GOOGLE_API_KEY\")"
   ]
  },
  {
   "cell_type": "code",
   "execution_count": 2,
   "id": "9ac87940",
   "metadata": {},
   "outputs": [
    {
     "name": "stdout",
     "output_type": "stream",
     "text": [
      "AI learns from data to recognize patterns and make intelligent decisions or predictions.\n"
     ]
    }
   ],
   "source": [
    "from google import genai\n",
    "\n",
    "# The client gets the API key from the environment variable `GEMINI_API_KEY`.\n",
    "client = genai.Client(api_key=api_key)\n",
    "\n",
    "response = client.models.generate_content(\n",
    "    model=\"gemini-2.5-flash\", contents=\"Explain how AI works in a few words\"\n",
    ")\n",
    "print(response.text)"
   ]
  },
  {
   "cell_type": "code",
   "execution_count": 5,
   "id": "766ffad9",
   "metadata": {},
   "outputs": [],
   "source": [
    "from langgraph.graph import StateGraph, START, END\n",
    "from typing import TypedDict"
   ]
  },
  {
   "cell_type": "code",
   "execution_count": 13,
   "id": "7f38e0c4",
   "metadata": {},
   "outputs": [],
   "source": [
    "class LLM_Graph(TypedDict):\n",
    "    question: str\n",
    "    answer: str\n",
    "\n",
    "\n",
    "def llm_response(state: LLM_Graph) -> LLM_Graph:\n",
    "    question = state['question']\n",
    "\n",
    "    prompt = f\"Answer the following question:\\n{question}\\nAnswer must very brief and to the point\"\n",
    "\n",
    "    response = client.models.generate_content(\n",
    "    model=\"gemini-2.5-flash\", contents=prompt\n",
    "    )\n",
    "\n",
    "    state['answer'] = response.text\n",
    "\n",
    "    return state"
   ]
  },
  {
   "cell_type": "code",
   "execution_count": 14,
   "id": "8e920114",
   "metadata": {},
   "outputs": [
    {
     "data": {
      "image/png": "[encoded data removed]",
      "text/plain": [
       "<langgraph.graph.state.CompiledStateGraph object at 0x766ba53afee0>"
      ]
     },
     "execution_count": 14,
     "metadata": {},
     "output_type": "execute_result"
    }
   ],
   "source": [
    "builder = StateGraph(LLM_Graph)\n",
    "\n",
    "builder.add_node(\"llm_response\", llm_response)\n",
    "\n",
    "builder.add_edge(START, \"llm_response\")\n",
    "builder.add_edge(\"llm_response\", END)\n",
    "\n",
    "graph = builder.compile()\n",
    "\n",
    "graph"
   ]
  },
  {
   "cell_type": "code",
   "execution_count": 15,
   "id": "3f2427d0",
   "metadata": {},
   "outputs": [
    {
     "data": {
      "text/plain": [
       "{'question': 'What is AI.',\n",
       " 'answer': 'AI is intelligence demonstrated by machines.'}"
      ]
     },
     "execution_count": 15,
     "metadata": {},
     "output_type": "execute_result"
    }
   ],
   "source": [
    "input = ({\"question\":\"What is AI.\"})\n",
    "\n",
    "output = graph.invoke(input)\n",
    "output"
   ]
  }
 ],
 "metadata": {
  "kernelspec": {
   "display_name": "ai",
   "language": "python",
   "name": "python3"
  },
  "language_info": {
   "codemirror_mode": {
    "name": "ipython",
    "version": 3
   },
   "file_extension": ".py",
   "mimetype": "text/x-python",
   "name": "python",
   "nbconvert_exporter": "python",
   "pygments_lexer": "ipython3",
   "version": "3.10.18"
  }
 },
 "nbformat": 4,
 "nbformat_minor": 5
}
