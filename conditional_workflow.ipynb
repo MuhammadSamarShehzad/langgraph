{
 "cells": [
  {
   "cell_type": "code",
   "execution_count": 8,
   "id": "887f5f15",
   "metadata": {},
   "outputs": [],
   "source": [
    "from typing import TypedDict, Literal\n",
    "\n",
    "class User(TypedDict):\n",
    "    name: str\n",
    "    age: int\n",
    "\n",
    "    summary: str"
   ]
  },
  {
   "cell_type": "code",
   "execution_count": 12,
   "id": "877c0037",
   "metadata": {},
   "outputs": [],
   "source": [
    "def age_increment(state: User):\n",
    "    age = state[\"age\"] + 1\n",
    "\n",
    "    return {\"age\": age}\n",
    "\n",
    "def adult(state: User):\n",
    "    summary = f\"Dear {state['name']}, you are an adult now! you can have the CNIC card.\"\n",
    "\n",
    "    return {\"summary\": summary}\n",
    "\n",
    "def teenage(state: User):\n",
    "    summary = f\"Dear {state['name']}, you are a teenager now! you can have the B-Form ONLY.\"\n",
    "\n",
    "    return {\"summary\": summary}\n",
    "\n",
    "def check_age(state: User) -> Literal[\"adult\", \"teenage\"]:\n",
    "    if state[\"age\"] >= 18:\n",
    "        return \"adult\"\n",
    "    else:\n",
    "        return \"teenage\""
   ]
  },
  {
   "cell_type": "code",
   "execution_count": 13,
   "id": "3c17c346",
   "metadata": {},
   "outputs": [
    {
     "data": {
      "image/png": "[encoded data removed]",
      "text/plain": [
       "<langgraph.graph.state.CompiledStateGraph object at 0x715ef6c2f6d0>"
      ]
     },
     "execution_count": 13,
     "metadata": {},
     "output_type": "execute_result"
    }
   ],
   "source": [
    "from langgraph.graph import StateGraph, START, END\n",
    "\n",
    "workflow = StateGraph(User)\n",
    "\n",
    "workflow.add_node(\"age_increment\", age_increment)\n",
    "workflow.add_node(\"adult\", adult)\n",
    "workflow.add_node(\"teenage\", teenage)\n",
    "\n",
    "workflow.add_edge(START, \"age_increment\")\n",
    "workflow.add_conditional_edges(\"age_increment\", check_age)\n",
    "workflow.add_edge(\"adult\", END)\n",
    "workflow.add_edge(\"teenage\", END)\n",
    "\n",
    "graph = workflow.compile()\n",
    "\n",
    "graph"
   ]
  },
  {
   "cell_type": "code",
   "execution_count": 16,
   "id": "46f26477",
   "metadata": {},
   "outputs": [
    {
     "data": {
      "text/plain": [
       "{'name': 'Muhammad Samar',\n",
       " 'age': 17,\n",
       " 'summary': 'Dear Muhammad Samar, you are a teenager now! you can have the B-Form ONLY.'}"
      ]
     },
     "execution_count": 16,
     "metadata": {},
     "output_type": "execute_result"
    }
   ],
   "source": [
    "input = {\"name\": \"Muhammad Samar\", \"age\": 16}\n",
    "graph.invoke(input)"
   ]
  },
  {
   "cell_type": "code",
   "execution_count": null,
   "id": "99ea9f1f",
   "metadata": {},
   "outputs": [],
   "source": []
  },
  {
   "cell_type": "code",
   "execution_count": null,
   "id": "95db0ace",
   "metadata": {},
   "outputs": [],
   "source": []
  },
  {
   "cell_type": "code",
   "execution_count": 18,
   "id": "79a49fc6",
   "metadata": {},
   "outputs": [
    {
     "data": {
      "image/png": "[encoded data removed]",
      "text/plain": [
       "<langgraph.graph.state.CompiledStateGraph object at 0x715ef6c2f4c0>"
      ]
     },
     "execution_count": 18,
     "metadata": {},
     "output_type": "execute_result"
    }
   ],
   "source": [
    "from typing import TypedDict, Literal\n",
    "from langgraph.graph import StateGraph, START, END\n",
    "\n",
    "class User(TypedDict):\n",
    "    name: str\n",
    "    age: int\n",
    "    summary: str\n",
    "\n",
    "def adult(state: User):\n",
    "    return {\"summary\": f\"Dear {state['name']}, you are an adult now! you can have the CNIC card.\"}\n",
    "\n",
    "def teenage(state: User):\n",
    "    return {\"summary\": f\"Dear {state['name']}, you are a teenager now! you can have the B-Form ONLY.\"}\n",
    "\n",
    "def check_age(state: User) -> Literal[\"adult\", \"teenage\"]:\n",
    "    return \"adult\" if state[\"age\"] >= 18 else \"teenage\"\n",
    "\n",
    "workflow = StateGraph(User)\n",
    "\n",
    "workflow.add_node(\"adult\", adult)\n",
    "workflow.add_node(\"teenage\", teenage)\n",
    "workflow.set_conditional_entry_point(check_age)\n",
    "workflow.add_edge(\"adult\", END)\n",
    "workflow.add_edge(\"teenage\", END)\n",
    "\n",
    "graph = workflow.compile()\n",
    "\n",
    "graph"
   ]
  },
  {
   "cell_type": "code",
   "execution_count": 20,
   "id": "f3bac47e",
   "metadata": {},
   "outputs": [
    {
     "name": "stdout",
     "output_type": "stream",
     "text": [
      "{'name': 'Muhammad Samar', 'age': 19, 'summary': 'Dear Muhammad Samar, you are an adult now! you can have the CNIC card.'}\n"
     ]
    }
   ],
   "source": [
    "# Run\n",
    "input = {\"name\": \"Muhammad Samar\", \"age\": 19}\n",
    "result = graph.invoke(input)\n",
    "print(result)\n"
   ]
  },
  {
   "cell_type": "code",
   "execution_count": null,
   "id": "97e40acf",
   "metadata": {},
   "outputs": [],
   "source": []
  }
 ],
 "metadata": {
  "kernelspec": {
   "display_name": "ai",
   "language": "python",
   "name": "python3"
  },
  "language_info": {
   "codemirror_mode": {
    "name": "ipython",
    "version": 3
   },
   "file_extension": ".py",
   "mimetype": "text/x-python",
   "name": "python",
   "nbconvert_exporter": "python",
   "pygments_lexer": "ipython3",
   "version": "3.10.18"
  }
 },
 "nbformat": 4,
 "nbformat_minor": 5
}
